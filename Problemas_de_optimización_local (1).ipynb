{
  "nbformat": 4,
  "nbformat_minor": 0,
  "metadata": {
    "colab": {
      "provenance": []
    },
    "kernelspec": {
      "name": "python3",
      "display_name": "Python 3"
    },
    "language_info": {
      "name": "python"
    }
  },
  "cells": [
    {
      "cell_type": "markdown",
      "source": [
        "# Problemas de optimización local"
      ],
      "metadata": {
        "id": "9thofPc5Qk2v"
      }
    },
    {
      "cell_type": "markdown",
      "source": [
        "> > *Damián Jacob Albino Mejía A01246716*\n",
        "\n",
        "> > *Sofía Ingigerth Cañas Urbina A01173828*"
      ],
      "metadata": {
        "id": "n0c5dJCTOKNu"
      }
    },
    {
      "cell_type": "code",
      "source": [
        "!pip install simpleai\n",
        "from simpleai.search import SearchProblem\n",
        "from simpleai.search.local import hill_climbing, simulated_annealing\n",
        "import math\n",
        "import random"
      ],
      "metadata": {
        "id": "wubCFlxLQwz-",
        "colab": {
          "base_uri": "https://localhost:8080/"
        },
        "outputId": "35996a58-e103-4f00-c9bf-f561f6f3d2f5"
      },
      "execution_count": null,
      "outputs": [
        {
          "output_type": "stream",
          "name": "stdout",
          "text": [
            "Requirement already satisfied: simpleai in /usr/local/lib/python3.7/dist-packages (0.8.3)\n"
          ]
        }
      ]
    },
    {
      "cell_type": "markdown",
      "source": [
        "## Problema 1: 8 reinas\n",
        "\n",
        "+ **State**: El estado que se presenta es una lista de ocho valores en los que cada posición representa la columna en la que se encuentra una dama y el valor que presenta, expresa en qué fila se encuentra la dama.\n",
        "+ **Initial state**: El estado inicial puede ser cualquier combinación de números entre 1 y 8, incluso pueden haber valores repetidos en los ocho espacios.\n",
        "+ **Actions**: Cada acción que se realice realice corresponderá a mover a una dama una fila arriba o una fila abajo. En el caso de las filas 1 y 8, la dema puede bajar de la fila 1 a la 8, o subir de la 8 a la 1."
      ],
      "metadata": {
        "id": "bBGzQ8rVFkup"
      }
    },
    {
      "cell_type": "code",
      "source": [
        "class QueenProblem(SearchProblem):\n",
        "    def actions(self, state):\n",
        "      #Acciones posibles: Aumentar o disminuir una fila por cada columna.\n",
        "      return [[1,0,0,0,0,0,0,0],[-1,0,0,0,0,0,0,0],\n",
        "              [0,1,0,0,0,0,0,0],[0,-1,0,0,0,0,0,0],\n",
        "              [0,0,1,0,0,0,0,0],[0,0,-1,0,0,0,0,0],\n",
        "              [0,0,0,1,0,0,0,0],[0,0,0,-1,0,0,0,0],\n",
        "              [0,0,0,0,1,0,0,0],[0,0,0,0,-1,0,0,0],\n",
        "              [0,0,0,0,0,1,0,0],[0,0,0,0,0,-1,0,0],\n",
        "              [0,0,0,0,0,0,1,0],[0,0,0,0,0,0,-1,0],\n",
        "              [0,0,0,0,0,0,0,1],[0,0,0,0,0,0,0,-1]]\n",
        "\n",
        "    def result(self, state, action):\n",
        "      estado = list(state)\n",
        "      lista_resultados = []\n",
        "      for mi_estado, la_accion in zip(estado, action):\n",
        "        #Acción de aumentar/disminuir una fila.\n",
        "        resultado = mi_estado + la_accion\n",
        "        if resultado == 0:\n",
        "          #Si se disminuye desde la fila 1, se pasa hasta la 8.\n",
        "          resultado = 8\n",
        "        if resultado == 9:\n",
        "          #Si se aumenta desde la fila 8, se pasa hasta la 1.\n",
        "          resultado = 1\n",
        "        lista_resultados.append(resultado)\n",
        "      return tuple(lista_resultados)     \n",
        "\n",
        "    def value(self, state):\n",
        "      estado = list(state)\n",
        "      ataques = 0\n",
        "      #Se determinan cuantos ataques hay entre las 8 reinas, sin contar casos equivalentes.\n",
        "      #Nota: el caso en el que la reina A ataca a la reina B y el caso en el que la reina B ataca a la reina A, se consideran casos equivalentes.\n",
        "      for i in range(len(state)):\n",
        "        for j in range(len(state)):\n",
        "          if j > i:\n",
        "            pendiente = (estado[j] - estado[i])/(j-i)\n",
        "            if pendiente == 0 or pendiente == 1 or pendiente == -1:\n",
        "              ataques += 1\n",
        "      #Como value busca ser el número más grande, se determinan los \"no ataques\", donde mientras menos ataques hayan, los \"no ataques\" serán mayores.\n",
        "      no_ataques = 28 - ataques\n",
        "      return no_ataques"
      ],
      "metadata": {
        "id": "dHQx1RDGFw5I"
      },
      "execution_count": null,
      "outputs": []
    },
    {
      "cell_type": "code",
      "source": [
        "#reinas = QueenProblem(tuple((6, 1, 5, 2, 8, 4, 7, 3)))\n",
        "#reinas = QueenProblem(tuple((6, 1, 5, 2, 8, 5, 7, 3))) Nota: La tupla de entrada es el resultado obtenido de QueenProblem(tuple((6, 1, 5, 2, 8, 4, 7, 3)))\n",
        "#reinas = QueenProblem(tuple((6, 1, 5, 2, 8, 5, 6, 3))) Nota: La tupla de entrada es el resultado obtenido de QueenProblem(tuple((6, 1, 5, 2, 8, 5, 7, 3)))\n",
        "reinas = QueenProblem(tuple((6, 1, 4, 2, 8, 5, 6, 3)))# Nota: La tupla de entrada es el resultado obtenido de QueenProblem(tuple((6, 1, 5, 2, 8, 5, 6, 3)))\n",
        "solucion = simulated_annealing(reinas)\n",
        "solucion.path()"
      ],
      "metadata": {
        "id": "pv3FFpmiGKZv",
        "colab": {
          "base_uri": "https://localhost:8080/"
        },
        "outputId": "b4d2d974-da56-455d-c880-3da510c3c511"
      },
      "execution_count": null,
      "outputs": [
        {
          "output_type": "execute_result",
          "data": {
            "text/plain": [
              "[([0, 0, 1, 0, 0, 0, 0, 0], (6, 1, 5, 2, 8, 5, 6, 3))]"
            ]
          },
          "metadata": {},
          "execution_count": 26
        }
      ]
    },
    {
      "cell_type": "code",
      "source": [
        "#reinas = QueenProblem(tuple((6, 1, 5, 2, 8, 4, 7, 3)))\n",
        "#reinas = QueenProblem(tuple((6, 1, 5, 2, 7, 3, 7, 2))) Nota: La tupla de entrada es el resultado obtenido de QueenProblem(tuple((6, 1, 5, 2, 8, 4, 7, 3)))\n",
        "#reinas = QueenProblem(tuple((6, 1, 5, 2, 8, 3, 7, 3))) Nota: La tupla de entrada es el resultado obtenido de QueenProblem(tuple((6, 1, 5, 2, 7, 3, 7, 2)))\n",
        "reinas = QueenProblem(tuple((6, 1, 5, 2, 8, 3, 7, 4)))# Nota: La tupla de entrada es el resultado obtenido de QueenProblem(tuple((6, 1, 5, 2, 8, 3, 7, 3)))\n",
        "solucion = hill_climbing(reinas)\n",
        "solucion.path()"
      ],
      "metadata": {
        "colab": {
          "base_uri": "https://localhost:8080/"
        },
        "id": "SCi_2Yaqyh5m",
        "outputId": "39d1a63b-8c99-4bd5-910c-0ccb757524e0"
      },
      "execution_count": null,
      "outputs": [
        {
          "output_type": "execute_result",
          "data": {
            "text/plain": [
              "[(None, (6, 1, 5, 2, 8, 3, 7, 4))]"
            ]
          },
          "metadata": {},
          "execution_count": 5
        }
      ]
    },
    {
      "cell_type": "markdown",
      "source": [
        "Hemos probado con varios casos, de estos dos ejemplos que dejamos, hemos de rescatar que no siempre llegamos a la solución porque el algoritmo ha llegado a un bucle del que no puede salir o porque la manera en como busca el algoritmo no le permite acercarse más a la solución, como ocurre en el primer caso presentado.\n",
        "\n",
        "A diferencia del simulated_annealing, el hill_climbing logra alcanzar una solución óptima."
      ],
      "metadata": {
        "id": "7Pnbwp0ryAX4"
      }
    },
    {
      "cell_type": "markdown",
      "source": [
        "# Problema 2: Puntos\n",
        "\n",
        "+ **State**: El estado que se presenta es una lista de treinta y dos valores en los que cada posición representa cómo se van trazando las líneas que unen a los puntos.\n",
        "+ **Initial state**: El estado inicial puede ser cualquier combinación de puntos de las treinta y dos coordenadas.\n",
        "+ **Actions**: Cada acción que se realice corresponderá a seleccionar dos coordenadas y e intercambiar sus posiciones en el estado de modo que se logren unir los puntos y se consigua la suma mínima posible entre estas distancias."
      ],
      "metadata": {
        "id": "gXUcCSV-GiJP"
      }
    },
    {
      "cell_type": "code",
      "source": [
        "class Puntos(SearchProblem):\n",
        "\n",
        "    #Acciones posibles: es posible seleccionar a todas las coordenadas para realizar el proceso de cambiar su lugar con otra coordenada.\n",
        "    def actions(self, state):\n",
        "      return [[20,20],[20,40],[20,160],[30,120],[40,140],[40,150],[50,20],\n",
        "                [60,40],[60,80],[60,200],[70,200],[80,150],[90,170],[100,40],[100,50],[100,130],[100,150],\n",
        "                [110,10],[110,70],[120,80],[130,70],[130,170],[140,140],[140,180],[150,50],\n",
        "                [160,20],[170,100],[180,70],[180,200],[200,30],[200,70],[200,100]]\n",
        "\n",
        "    def result(self, state, action):\n",
        "      state = list(state)\n",
        "      i_state = state.index(action) #Se determina dónde se encuentra la acción a realizar (la coordenada a cambiar) dentro de mi estado.\n",
        "      i_action = random.randint(0,len(state)-1) #Se determina un índice aleatorio donde se realizará el cambio dentro del estado.\n",
        "      #Invertimos posiciones.\n",
        "      state[i_state] = state[i_action]\n",
        "      state[i_action] = action\n",
        "      return tuple(state)\n",
        "\n",
        "    def value(self, state):\n",
        "      state = list(state)\n",
        "      suma_distancias = 0\n",
        "      #Cálculo de la distancia total resltante de unir los puntos según el orden de mi estado.\n",
        "      for i in range(len(state)-1):\n",
        "        suma_distancias += math.sqrt(math.pow(state[i+1][0] - state[i][0], 2) + math.pow(state[i+1][1] - state[i][1], 2))\n",
        "      suma_distancias += math.sqrt(math.pow(state[1][0] - state[-1][0], 2) + math.pow(state[1][1] - state[-1][1], 2))\n",
        "      #print(suma_distancias)\n",
        "      return -suma_distancias"
      ],
      "metadata": {
        "id": "AVKPkpA97hzM"
      },
      "execution_count": null,
      "outputs": []
    },
    {
      "cell_type": "code",
      "source": [
        "#coordenadas = ([90, 170], [20, 20], [30, 120], [20, 40], [60, 80], [200, 100], [20, 160], [180, 70], [40, 150], \n",
        "#               [160, 20], [140, 180], [70, 200], [200, 70], [100, 130], [60, 40], [100, 50], [170, 100], [150, 50], \n",
        "#               [140, 140], [200, 30], [110, 70], [130, 170], [120, 80], [110, 10], [40, 140], [130, 70], [100, 40], \n",
        "#               [80, 150], [100, 150], [60, 200], [180, 200], [50, 20]) # Distania: Desconocida\n",
        "\n",
        "#coordenadas = ([90, 170], [20, 20], [30, 120], [20, 40], [60, 80], [200, 100], [160, 20], [180, 70], [40, 150], [20, 160],\n",
        "#               [140, 180], [70, 200], [200, 70], [100, 130], [60, 40], [130, 70], [170, 100], [150, 50], [140, 140], [200, 30], [110, 70],\n",
        "#               [130, 170], [120, 80], [110, 10], [40, 140], [100, 50], [100, 40], [80, 150], [100, 150], [60, 200], [180, 200], [50, 20]) # Distania: 2973\n",
        "\n",
        "#coordenadas = ([90, 170], [20, 20], [30, 120], [20, 40], [60, 80], [200, 100], [160, 20], [180, 70], [40, 150], [20, 160], [140, 180], [70, 200], \n",
        "#               [200, 70], [100, 130], [80, 150], [130, 70], [170, 100], [130, 170], [140, 140], [200, 30], [110, 70], [150, 50], [120, 80],\n",
        "#               [110, 10], [40, 140], [100, 50], [100, 40], [60, 40], [100, 150], [60, 200], [180, 200], [50, 20]) # Distania: 2794\n",
        "\n",
        "coordenadas = ([20, 40], [20, 20], [30, 120], [100, 150], [60, 80], [200, 100], [110, 70], [180, 70], [40, 150], [20, 160], [140, 180],\n",
        "               [70, 200], [200, 70], [180, 200], [80, 150], [130, 70], [170, 100], [130, 170], [140, 140], [200, 30], [160, 20], [150, 50],\n",
        "               [120, 80], [110, 10], [40, 140], [100, 50], [100, 40], [60, 40], [90, 170], [60, 200], [100, 130], [50, 20]) # Distania: 2657\n",
        "\n",
        "# Al igual que en el problema 1, los valores de \"coordenadas\" fueron variando según los resultados que daba Puntos(coordenadas)\n",
        "trazo = Puntos(coordenadas)\n",
        "solucion = simulated_annealing(trazo)\n",
        "solucion.path()"
      ],
      "metadata": {
        "colab": {
          "base_uri": "https://localhost:8080/"
        },
        "id": "ImgMxW4u9BzD",
        "outputId": "24a234d7-ec19-4b3c-d8b5-8aaf5af209aa"
      },
      "execution_count": null,
      "outputs": [
        {
          "output_type": "execute_result",
          "data": {
            "text/plain": [
              "[(None,\n",
              "  ([20, 40],\n",
              "   [20, 20],\n",
              "   [30, 120],\n",
              "   [100, 150],\n",
              "   [60, 80],\n",
              "   [200, 100],\n",
              "   [110, 70],\n",
              "   [180, 70],\n",
              "   [40, 150],\n",
              "   [20, 160],\n",
              "   [140, 180],\n",
              "   [70, 200],\n",
              "   [200, 70],\n",
              "   [180, 200],\n",
              "   [80, 150],\n",
              "   [130, 70],\n",
              "   [170, 100],\n",
              "   [130, 170],\n",
              "   [140, 140],\n",
              "   [200, 30],\n",
              "   [160, 20],\n",
              "   [150, 50],\n",
              "   [120, 80],\n",
              "   [110, 10],\n",
              "   [40, 140],\n",
              "   [100, 50],\n",
              "   [100, 40],\n",
              "   [60, 40],\n",
              "   [90, 170],\n",
              "   [60, 200],\n",
              "   [100, 130],\n",
              "   [50, 20]))]"
            ]
          },
          "metadata": {},
          "execution_count": 4
        }
      ]
    },
    {
      "cell_type": "code",
      "source": [
        "#coordenadas = ([90, 170], [20, 20], [30, 120], [20, 40], [60, 80], [200, 100], [20, 160], [180, 70], [40, 150], \n",
        "#               [160, 20], [140, 180], [70, 200], [200, 70], [100, 130], [60, 40], [100, 50], [170, 100], [150, 50], \n",
        "#               [140, 140], [200, 30], [110, 70], [130, 170], [120, 80], [110, 10], [40, 140], [130, 70], [100, 40], \n",
        "#               [80, 150], [100, 150], [60, 200], [180, 200], [50, 20]) # Distania: Desconocida\n",
        "\n",
        "#coordenadas = ([100, 40], [50, 20], [20, 20], [20, 40], [170, 100], [200, 100], [200, 70], [180, 70], [130, 170], [140, 140], [140, 180],\n",
        "#               [180, 200], [100, 150], [110, 70], [110, 10], [130, 70], [120, 80], [150, 50], [160, 20], [200, 30], [100, 50], [60, 40],\n",
        "#               [60, 80], [20, 160], [40, 140], [40, 150], [30, 120], [100, 130], [80, 150], [60, 200], [70, 200], [90, 170]) # Distancia: 1738\n",
        "\n",
        "#coordenadas = ([100, 40], [50, 20], [20, 20], [20, 40], [170, 100], [180, 70], [200, 70], [200, 100], [140, 140], [130, 170], [140, 180],\n",
        "#               [180, 200], [100, 150], [110, 70], [100, 50], [130, 70], [120, 80], [150, 50], [160, 20], [200, 30], [110, 10], [60, 40],\n",
        "#               [60, 80], [20, 160], [40, 140], [40, 150], [30, 120], [100, 130], [80, 150], [60, 200], [70, 200], [90, 170]) # Distancia: 1576\n",
        "\n",
        "coordenadas = ([100, 40], [50, 20], [20, 20], [20, 40], [170, 100], [180, 70], [200, 70], [200, 100], [140, 140], [130, 170], [140, 180],\n",
        "               [180, 200], [100, 150], [110, 70], [100, 50], [130, 70], [120, 80], [150, 50], [160, 20], [200, 30], [110, 10], [60, 40],\n",
        "               [60, 80], [20, 160], [40, 150], [40, 140], [30, 120], [100, 130], [80, 150], [60, 200], [70, 200], [90, 170]) # Distancia: 1561\n",
        "\n",
        "# Al igual que en el problema 1, los valores de \"coordenadas\" fueron variando según los resultados que daba Puntos(coordenadas)\n",
        "trazo = Puntos(coordenadas)\n",
        "solucion = hill_climbing(trazo)\n",
        "solucion.path()"
      ],
      "metadata": {
        "colab": {
          "base_uri": "https://localhost:8080/"
        },
        "id": "3NBcVW6b-vdi",
        "outputId": "21741772-7658-4a0d-a044-90720bc8cf18"
      },
      "execution_count": null,
      "outputs": [
        {
          "output_type": "execute_result",
          "data": {
            "text/plain": [
              "[([40, 140],\n",
              "  ([20, 40],\n",
              "   [50, 20],\n",
              "   [20, 20],\n",
              "   [100, 40],\n",
              "   [100, 50],\n",
              "   [180, 70],\n",
              "   [200, 70],\n",
              "   [200, 100],\n",
              "   [140, 140],\n",
              "   [130, 170],\n",
              "   [140, 180],\n",
              "   [180, 200],\n",
              "   [100, 130],\n",
              "   [110, 70],\n",
              "   [120, 80],\n",
              "   [130, 70],\n",
              "   [170, 100],\n",
              "   [150, 50],\n",
              "   [160, 20],\n",
              "   [200, 30],\n",
              "   [110, 10],\n",
              "   [60, 40],\n",
              "   [60, 80],\n",
              "   [20, 160],\n",
              "   [40, 150],\n",
              "   [40, 140],\n",
              "   [30, 120],\n",
              "   [100, 150],\n",
              "   [80, 150],\n",
              "   [60, 200],\n",
              "   [70, 200],\n",
              "   [90, 170]))]"
            ]
          },
          "metadata": {},
          "execution_count": 12
        }
      ]
    },
    {
      "cell_type": "markdown",
      "source": [
        "Utilicen los algoritmos de búsqueda voraz y de recocido simulado para encontrar la forma como se conectarían los puntos, de tal forma que la suma de las longitudes de las líneas que conectan la figura sea la menor posible. ¿Con qué algoritmo se obtiene los mejores resultados?\n",
        "\n",
        "Hemos colocado un print() que muestra las sumas de las distancias según cómo el algoritmo ha hecho sus ajustes en el cómo se realizará la unión de los puntos, y si comparamos simulated_annealing con hill_climbing, nos es muy claro que hill_climbing logra muchísimo mejores resultados. De lo que hemos podido observar, este algoritmo logra proporcionar mejores soluciones (distancias más cortas) y más rápido.\n",
        "\n",
        "Hill_climbing logró una distancia muchísimo mejor desde su primera iteración a comparación con el mejor intento encontrado con simulated_annealing. Aún así, probando con los puntos que resultan de ambos métodos algunas conexiones entre puntos se siguen cruzando aunque lo hagan cada vez menos."
      ],
      "metadata": {
        "id": "oU8KTqz0QNhJ"
      }
    }
  ]
}